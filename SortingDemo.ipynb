{
 "cells": [
  {
   "cell_type": "markdown",
   "id": "0df975f7",
   "metadata": {},
   "source": [
    "Cell Sorting Demo\n",
    "==================\n",
    "\n",
    "This notebook demonstrates how to specify, execute and visualize an interactive CC3D simulation of 2D cell sorting in pure Python. "
   ]
  },
  {
   "cell_type": "markdown",
   "id": "d398a45d",
   "metadata": {},
   "source": [
    "Basic Setup\n",
    "------------------\n",
    "\n",
    "An interactive CC3D simulation can be initialized from a list of core specs. \n",
    "Start a list of core specs that define the simulation by specifying a \n",
    "two-dimensional simulation with a 100x100 lattice and second-order Potts neighborhood."
   ]
  },
  {
   "cell_type": "code",
   "execution_count": 1,
   "id": "c8156e4e",
   "metadata": {},
   "outputs": [],
   "source": [
    "from cc3d.core.PyCoreSpecs import Metadata, PottsCore\n",
    "\n",
    "specs = [\n",
    "    Metadata(), \n",
    "    PottsCore(dim_x=100, dim_y=100, neighbor_order=2)\n",
    "]"
   ]
  },
  {
   "cell_type": "markdown",
   "id": "cfdb687a",
   "metadata": {},
   "source": [
    "Cell Types\n",
    "-----------\n",
    "\n",
    "Define two cell types called \"Condensing\" and \"NonCondensing\"."
   ]
  },
  {
   "cell_type": "code",
   "execution_count": 2,
   "id": "74a9a915",
   "metadata": {},
   "outputs": [],
   "source": [
    "from cc3d.core.PyCoreSpecs import CellTypePlugin\n",
    "\n",
    "cell_types = [\"Condensing\", \"NonCondensing\"]\n",
    "specs.append(CellTypePlugin(*cell_types))"
   ]
  },
  {
   "cell_type": "markdown",
   "id": "fe4f41d4",
   "metadata": {},
   "source": [
    "Volume Constraint\n",
    "------------------\n",
    "\n",
    "Assign a volume constraint to both cell types. "
   ]
  },
  {
   "cell_type": "code",
   "execution_count": 3,
   "id": "5abd795e",
   "metadata": {},
   "outputs": [],
   "source": [
    "from cc3d.core.PyCoreSpecs import VolumePlugin\n",
    "\n",
    "target_volume = 25\n",
    "lambda_volume = 2\n",
    "\n",
    "volume_specs = VolumePlugin()\n",
    "volume_specs.param_new(cell_types[0], target_volume=target_volume, lambda_volume=lambda_volume)\n",
    "volume_specs.param_new(cell_types[1], target_volume=target_volume, lambda_volume=lambda_volume)\n",
    "specs.append(volume_specs)"
   ]
  },
  {
   "cell_type": "markdown",
   "id": "45671b08",
   "metadata": {},
   "source": [
    "Differential Adhesion\n",
    "----------------------\n",
    "\n",
    "Assign adhesion between cells by type such that cell sorting occurs. "
   ]
  },
  {
   "cell_type": "code",
   "execution_count": 4,
   "id": "2b2e81a1",
   "metadata": {},
   "outputs": [],
   "source": [
    "from cc3d.core.PyCoreSpecs import ContactPlugin\n",
    "\n",
    "contact_specs = ContactPlugin(2)\n",
    "contact_specs.param_new(type_1=\"Medium\", type_2=cell_types[0], energy=16)\n",
    "contact_specs.param_new(type_1=\"Medium\", type_2=cell_types[1], energy=16)\n",
    "contact_specs.param_new(type_1=cell_types[0], type_2=cell_types[0], energy=2)\n",
    "contact_specs.param_new(type_1=cell_types[0], type_2=cell_types[1], energy=11)\n",
    "contact_specs.param_new(type_1=cell_types[1], type_2=cell_types[1], energy=16)\n",
    "specs.append(contact_specs)"
   ]
  },
  {
   "cell_type": "markdown",
   "id": "9216cf92",
   "metadata": {},
   "source": [
    "Cell Distribution Initialization\n",
    "---------------------------------\n",
    "\n",
    "Initialize cells as a blob with a random distribution by type. "
   ]
  },
  {
   "cell_type": "code",
   "execution_count": 5,
   "id": "730fcbcf",
   "metadata": {},
   "outputs": [],
   "source": [
    "from cc3d.core.PyCoreSpecs import BlobInitializer\n",
    "\n",
    "blob_init_specs = BlobInitializer()\n",
    "blob_init_specs.region_new(width=5, radius=20, center=(50, 50, 0), cell_types=cell_types)\n",
    "specs.append(blob_init_specs)"
   ]
  },
  {
   "cell_type": "markdown",
   "id": "bdd75cd3",
   "metadata": {},
   "source": [
    "Simulation Launch\n",
    "------------------\n",
    "\n",
    "Initialize a CC3D simulation service instance and register all simulation specification. "
   ]
  },
  {
   "cell_type": "code",
   "execution_count": 6,
   "id": "d6d7854c",
   "metadata": {},
   "outputs": [
    {
     "name": "stderr",
     "output_type": "stream",
     "text": [
      "C:\\Users\\pdalc\\anaconda3\\envs\\cc3d_460_310\\lib\\site-packages\\cc3d\\core\\Configuration\\SettingUtils.py:248: UserWarning: Setting not set: PlayerSizes\n",
      "  warnings.warn(f'Setting not set: {_el.attrib[\"Name\"]}')\n",
      "C:\\Users\\pdalc\\anaconda3\\envs\\cc3d_460_310\\lib\\site-packages\\cc3d\\core\\Configuration\\SettingUtils.py:248: UserWarning: Setting not set: PlayerSizesFloating\n",
      "  warnings.warn(f'Setting not set: {_el.attrib[\"Name\"]}')\n",
      "C:\\Users\\pdalc\\anaconda3\\envs\\cc3d_460_310\\lib\\site-packages\\cc3d\\core\\Configuration\\SettingUtils.py:248: UserWarning: Setting not set: RecentSimulations\n",
      "  warnings.warn(f'Setting not set: {_el.attrib[\"Name\"]}')\n"
     ]
    },
    {
     "name": "stdout",
     "output_type": "stream",
     "text": [
      "WILL RUN SIMULATION FROM BEGINNING\n"
     ]
    },
    {
     "data": {
      "text/plain": [
       "True"
      ]
     },
     "execution_count": 6,
     "metadata": {},
     "output_type": "execute_result"
    }
   ],
   "source": [
    "from cc3d.CompuCellSetup.CC3DCaller import CC3DSimService\n",
    "\n",
    "cc3d_sim = CC3DSimService()\n",
    "cc3d_sim.register_specs(specs)\n",
    "cc3d_sim.run()\n",
    "cc3d_sim.init()\n",
    "cc3d_sim.start()"
   ]
  },
  {
   "cell_type": "markdown",
   "id": "d7fe765b",
   "metadata": {},
   "source": [
    "Visualization\n",
    "--------------\n",
    "\n",
    "Show a single frame to visualize simulation data as it is generated. "
   ]
  },
  {
   "cell_type": "code",
   "execution_count": 7,
   "id": "434cae21",
   "metadata": {},
   "outputs": [
    {
     "data": {
      "application/vnd.jupyter.widget-view+json": {
       "model_id": "be25ccd7ad22420cbcc8de9ae3d5f46a",
       "version_major": 2,
       "version_minor": 0
      },
      "text/plain": [
       "CC3DViewInteractiveWidget(height=600, layout=Layout(height='auto', width='100%'), width=600)"
      ]
     },
     "metadata": {},
     "output_type": "display_data"
    },
    {
     "data": {
      "application/vnd.jupyter.widget-view+json": {
       "model_id": "7b3d0deabdfb4754952ce7eba18e7773",
       "version_major": 2,
       "version_minor": 0
      },
      "text/plain": [
       "ToggleButton(value=False, description='Run Simulation')"
      ]
     },
     "metadata": {},
     "output_type": "display_data"
    }
   ],
   "source": [
    "from IPython.display import display\n",
    "\n",
    "cc3d_sim.visualize().show()\n",
    "display(cc3d_sim.jupyter_run_button())"
   ]
  },
  {
   "cell_type": "code",
   "execution_count": null,
   "id": "8bd9f94c-e17d-412e-b839-73b1aa93bae7",
   "metadata": {},
   "outputs": [],
   "source": []
  }
 ],
 "metadata": {
  "kernelspec": {
   "display_name": "Python 3 (ipykernel)",
   "language": "python",
   "name": "python3"
  },
  "language_info": {
   "codemirror_mode": {
    "name": "ipython",
    "version": 3
   },
   "file_extension": ".py",
   "mimetype": "text/x-python",
   "name": "python",
   "nbconvert_exporter": "python",
   "pygments_lexer": "ipython3",
   "version": "3.10.14"
  }
 },
 "nbformat": 4,
 "nbformat_minor": 5
}

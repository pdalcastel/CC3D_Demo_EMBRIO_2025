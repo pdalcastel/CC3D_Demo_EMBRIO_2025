{
 "cells": [
  {
   "cell_type": "markdown",
   "id": "0df975f7",
   "metadata": {},
   "source": [
    "Cell Sorting Demo\n",
    "==================\n",
    "\n",
    "This notebook demonstrates how to specify, execute and visualize an interactive CC3D simulation of 2D cell sorting in pure Python. "
   ]
  },
  {
   "cell_type": "markdown",
   "id": "d398a45d",
   "metadata": {},
   "source": [
    "Basic Setup\n",
    "------------------\n",
    "\n",
    "An interactive CC3D simulation can be initialized from a list of core specs. \n",
    "Start a list of core specs that define the simulation by specifying a \n",
    "two-dimensional simulation with a 100x100 lattice and second-order Potts neighborhood."
   ]
  },
  {
   "cell_type": "code",
   "execution_count": 1,
   "id": "c8156e4e",
   "metadata": {},
   "outputs": [],
   "source": [
    "from cc3d.core.PyCoreSpecs import Metadata, PottsCore\n",
    "\n",
    "specs = [\n",
    "    Metadata(), \n",
    "    PottsCore(dim_x=100, dim_y=100, neighbor_order=2)\n",
    "]"
   ]
  },
  {
   "cell_type": "markdown",
   "id": "cfdb687a",
   "metadata": {},
   "source": [
    "Cell Types\n",
    "-----------\n",
    "\n",
    "Define two cell types called \"Condensing\" and \"NonCondensing\"."
   ]
  },
  {
   "cell_type": "code",
   "execution_count": 2,
   "id": "74a9a915",
   "metadata": {},
   "outputs": [],
   "source": [
    "from cc3d.core.PyCoreSpecs import CellTypePlugin\n",
    "\n",
    "cell_types = [\"Cell_A\", \"Cell_B\"]\n",
    "specs.append(CellTypePlugin(*cell_types))"
   ]
  },
  {
   "cell_type": "markdown",
   "id": "fe4f41d4",
   "metadata": {},
   "source": [
    "Volume Constraint\n",
    "------------------\n",
    "\n",
    "Assign a volume constraint to both cell types. "
   ]
  },
  {
   "cell_type": "code",
   "execution_count": 3,
   "id": "5abd795e",
   "metadata": {},
   "outputs": [],
   "source": [
    "from cc3d.core.PyCoreSpecs import VolumePlugin\n",
    "\n",
    "target_volume = 25\n",
    "lambda_volume = 2\n",
    "\n",
    "volume_specs = VolumePlugin()\n",
    "volume_specs.param_new(cell_types[0], target_volume=target_volume, lambda_volume=lambda_volume)\n",
    "volume_specs.param_new(cell_types[1], target_volume=target_volume, lambda_volume=lambda_volume)\n",
    "specs.append(volume_specs)"
   ]
  },
  {
   "cell_type": "markdown",
   "id": "45671b08",
   "metadata": {},
   "source": [
    "Differential Adhesion\n",
    "----------------------\n",
    "\n",
    "Assign adhesion between cells by type such that cell sorting occurs. "
   ]
  },
  {
   "cell_type": "code",
   "execution_count": 4,
   "id": "2b2e81a1",
   "metadata": {},
   "outputs": [],
   "source": [
    "from cc3d.core.PyCoreSpecs import ContactPlugin\n",
    "\n",
    "contact_specs = ContactPlugin(2)\n",
    "contact_specs.param_new(type_1=\"Medium\", type_2=cell_types[0], energy=16) # Medium Cell_A\n",
    "contact_specs.param_new(type_1=\"Medium\", type_2=cell_types[1], energy=16) # Medium Cell_B\n",
    "contact_specs.param_new(type_1=cell_types[0], type_2=cell_types[0], energy=10) # Cell_A Cell_A\n",
    "contact_specs.param_new(type_1=cell_types[0], type_2=cell_types[1], energy=5) # Cell_A Cell_B\n",
    "contact_specs.param_new(type_1=cell_types[1], type_2=cell_types[1], energy=10) # Cell_B Cell_B\n",
    "specs.append(contact_specs)"
   ]
  },
  {
   "cell_type": "markdown",
   "id": "9216cf92",
   "metadata": {},
   "source": [
    "Cell Distribution Initialization\n",
    "---------------------------------\n",
    "\n",
    "Initialize cells as a blob with a random distribution by type. "
   ]
  },
  {
   "cell_type": "code",
   "execution_count": 5,
   "id": "730fcbcf",
   "metadata": {},
   "outputs": [],
   "source": [
    "from cc3d.core.PyCoreSpecs import BlobInitializer\n",
    "\n",
    "blob_init_specs = BlobInitializer()\n",
    "blob_init_specs.region_new(width=5, radius=30, center=(50, 50, 0), cell_types=cell_types)\n",
    "specs.append(blob_init_specs)"
   ]
  },
  {
   "cell_type": "markdown",
   "id": "c0c2cbe8-25fc-48b1-bd13-6ca0e857a038",
   "metadata": {},
   "source": [
    "Steppables class\n",
    "---------------------------------\n",
    "\n",
    "Initialize a class that allows the user to specify various custom cell and tissue processes. In this case, it accomplishes the task of visualizing the simulation by scanning the lattice and plotting it using matplotlib since the regular CC3D visualization does not work on myBinder. This is a workaround and this is not how simulations are usually visualized in CC3D."
   ]
  },
  {
   "cell_type": "code",
   "execution_count": 6,
   "id": "fa3e7adb-6c2d-4dca-8b1d-bb7f2347d2f9",
   "metadata": {},
   "outputs": [
    {
     "name": "stderr",
     "output_type": "stream",
     "text": [
      "C:\\Users\\pdalc\\anaconda3\\envs\\cc3d_460_310\\lib\\site-packages\\cc3d\\core\\Configuration\\SettingUtils.py:248: UserWarning: Setting not set: PlayerSizes\n",
      "  warnings.warn(f'Setting not set: {_el.attrib[\"Name\"]}')\n",
      "C:\\Users\\pdalc\\anaconda3\\envs\\cc3d_460_310\\lib\\site-packages\\cc3d\\core\\Configuration\\SettingUtils.py:248: UserWarning: Setting not set: PlayerSizesFloating\n",
      "  warnings.warn(f'Setting not set: {_el.attrib[\"Name\"]}')\n",
      "C:\\Users\\pdalc\\anaconda3\\envs\\cc3d_460_310\\lib\\site-packages\\cc3d\\core\\Configuration\\SettingUtils.py:248: UserWarning: Setting not set: RecentSimulations\n",
      "  warnings.warn(f'Setting not set: {_el.attrib[\"Name\"]}')\n"
     ]
    }
   ],
   "source": [
    "from cc3d.core.PySteppables import *\n",
    "import matplotlib.pyplot as plt\n",
    "from matplotlib.patches import Patch\n",
    "import numpy as np\n",
    "\n",
    "class visualization(SteppableBasePy):\n",
    "    def start(self):\n",
    "        self.fig, self.ax = plt.subplots()  # Create figure and axis\n",
    "        self.im = None  # Placeholder for image\n",
    "        self.cmap = plt.get_cmap(\"plasma\", 4)\n",
    "        pass\n",
    "    def step(self, mcs):\n",
    "        if not mcs % 500:\n",
    "            self.lattice()\n",
    "        \n",
    "    def lattice(self):\n",
    "        clear_output(wait=True)\n",
    "        lat = np.zeros(shape=(self.dim.x, self.dim.y))\n",
    "        self.create_legend()\n",
    "        for x, y, z in self.every_pixel():\n",
    "            cell = self.cell_field[x, y, z]\n",
    "            if cell: lat[y,x] = int(cell.type) #+ np.sin(cell.id)/10.\n",
    "        if self.im is None:\n",
    "            self.im = self.ax.imshow(lat, cmap=self.cmap, vmin=0, vmax=3, animated=True)\n",
    "        else:\n",
    "            self.im.set_data(lat)\n",
    "            self.fig.canvas.draw_idle()  # Force a refresh\n",
    "            self.fig.canvas.flush_events() \n",
    "            #self.im = self.ax.imshow(lat, cmap=\"plasma\", vmin=0, vmax=3, animated=True)\n",
    "        display(self.fig)\n",
    "        # return(lat)\n",
    "\n",
    "    def create_legend(self):\n",
    "        \"\"\"Creates a discrete legend with fixed colors.\"\"\"\n",
    "        legend_labels = {\n",
    "            0: \"Medium\",\n",
    "            1: \"Cell_A\",\n",
    "            2: \"Cell_B\",\n",
    "            3: \"Cell_C\"\n",
    "        }\n",
    "        legend_patches = [Patch(color=self.cmap(i), label=label) for i, label in legend_labels.items()]\n",
    "        self.ax.legend(handles=legend_patches, loc=\"upper right\", bbox_to_anchor=(1.3, 1), title=\"\")"
   ]
  },
  {
   "cell_type": "markdown",
   "id": "bdd75cd3",
   "metadata": {},
   "source": [
    "Simulation Launch\n",
    "------------------\n",
    "\n",
    "Initialize a CC3D simulation service instance and register all simulation specification. "
   ]
  },
  {
   "cell_type": "code",
   "execution_count": 7,
   "id": "d6d7854c",
   "metadata": {},
   "outputs": [
    {
     "name": "stdout",
     "output_type": "stream",
     "text": [
      "WILL RUN SIMULATION FROM BEGINNING\n"
     ]
    },
    {
     "data": {
      "text/plain": [
       "True"
      ]
     },
     "execution_count": 7,
     "metadata": {},
     "output_type": "execute_result"
    }
   ],
   "source": [
    "from cc3d.CompuCellSetup.CC3DCaller import CC3DSimService\n",
    "\n",
    "cc3d_sim = CC3DSimService()\n",
    "cc3d_sim.register_specs(specs)\n",
    "cc3d_sim.register_steppable(steppable=visualization, frequency=1)\n",
    "cc3d_sim.run()\n",
    "cc3d_sim.init()"
   ]
  },
  {
   "cell_type": "markdown",
   "id": "d7fe765b",
   "metadata": {},
   "source": [
    "Visualization\n",
    "--------------\n",
    "\n",
    "Show a single frame to visualize simulation data as it is generated. (This here does not work on Binder, that's why I commented it out and implemented a workaround using matplotlib)"
   ]
  },
  {
   "cell_type": "code",
   "execution_count": 8,
   "id": "434cae21",
   "metadata": {},
   "outputs": [],
   "source": [
    "#from IPython.display import display\n",
    "\n",
    "#cc3d_sim.visualize().show()\n",
    "#display(cc3d_sim.jupyter_run_button())"
   ]
  },
  {
   "cell_type": "markdown",
   "id": "6139074e-83cf-4f33-bcb8-438f9304a567",
   "metadata": {},
   "source": [
    "This alternative way of running CC3D simulations on Binder."
   ]
  },
  {
   "cell_type": "code",
   "execution_count": 9,
   "id": "8bd9f94c-e17d-412e-b839-73b1aa93bae7",
   "metadata": {},
   "outputs": [
    {
     "data": {
      "image/png": "[encoded data removed]",
      "text/plain": [
       "<Figure size 640x480 with 1 Axes>"
      ]
     },
     "metadata": {},
     "output_type": "display_data"
    }
   ],
   "source": [
    "from IPython.display import display, clear_output\n",
    "\n",
    "cc3d_sim.start()\n",
    "while cc3d_sim.current_step < 10000:\n",
    "    cc3d_sim.step()\n",
    "    \n",
    "clear_output(wait=True)"
   ]
  },
  {
   "cell_type": "code",
   "execution_count": null,
   "id": "816f41a5-3c99-4aee-8847-8665ecd03743",
   "metadata": {},
   "outputs": [],
   "source": []
  },
  {
   "cell_type": "code",
   "execution_count": null,
   "id": "1c8dc19e-c4da-46e1-908a-8fe66d830606",
   "metadata": {},
   "outputs": [],
   "source": []
  },
  {
   "cell_type": "code",
   "execution_count": null,
   "id": "6eb8ea89-8350-4ff0-9cad-38c11e76b19d",
   "metadata": {},
   "outputs": [],
   "source": []
  }
 ],
 "metadata": {
  "kernelspec": {
   "display_name": "Python 3 (ipykernel)",
   "language": "python",
   "name": "python3"
  },
  "language_info": {
   "codemirror_mode": {
    "name": "ipython",
    "version": 3
   },
   "file_extension": ".py",
   "mimetype": "text/x-python",
   "name": "python",
   "nbconvert_exporter": "python",
   "pygments_lexer": "ipython3",
   "version": "3.10.14"
  }
 },
 "nbformat": 4,
 "nbformat_minor": 5
}

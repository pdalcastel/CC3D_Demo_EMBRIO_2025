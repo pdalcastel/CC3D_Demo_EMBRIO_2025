{
 "cells": [
  {
   "cell_type": "markdown",
   "id": "8ad931b6-c854-4640-97d1-7e87fdfc7bc0",
   "metadata": {},
   "source": [
    "Self Generated Gradient Demonstration\n",
    "==================\n",
    "\n",
    "This notebook demonstrates how to specify, execute and visualize an interactive CC3D simulation of 2D cell migration in pure Python.\n",
    "\n",
    "Source: https://github.com/CompuCell3D/CompuCell3D/tree/2e89970bfd51b4e7d4a7f4edb695130f70f97a46/CompuCell3D/core/Demos/CC3DPy/notebooks"
   ]
  },
  {
   "cell_type": "markdown",
   "id": "335e113c-bdbc-445c-9592-cf62c551a3fa",
   "metadata": {},
   "source": [
    "Basic Cell Setup\n",
    "------------------"
   ]
  },
  {
   "cell_type": "code",
   "execution_count": 1,
   "id": "934e3336-6d90-4012-8ad0-8d8588d4b941",
   "metadata": {},
   "outputs": [],
   "source": [
    "from cc3d.core.PyCoreSpecs import Metadata, PottsCore\n",
    "\n",
    "specs = [\n",
    "    Metadata(), \n",
    "    PottsCore(dim_x=100, dim_y=100, neighbor_order=2, fluctuation_amplitude=10.0, boundary_x=\"Periodic\", boundary_y=\"Periodic\")\n",
    "]\n",
    "\n",
    "from cc3d.core.PyCoreSpecs import CellTypePlugin\n",
    "\n",
    "#cell_types = [\"Cell_A\"]\n",
    "specs.append(CellTypePlugin(*cell_types))\n",
    "\n",
    "from cc3d.core.PyCoreSpecs import VolumePlugin\n",
    "\n",
    "#target_volume = 0\n",
    "#lambda_volume = 0\n",
    "\n",
    "volume_specs = VolumePlugin()\n",
    "volume_specs.param_new(cell_types[0], target_volume=target_volume, lambda_volume=lambda_volume)\n",
    "specs.append(volume_specs)\n",
    "\n",
    "from cc3d.core.PyCoreSpecs import ContactPlugin\n",
    "\n",
    "contact_specs = ContactPlugin(2)\n",
    "#contact_specs.param_new(type_1=\"Medium\", type_2=cell_types[0], energy=0) # Medium Cell_A\n",
    "#contact_specs.param_new(type_1=cell_types[0], type_2=cell_types[0], energy=0) # Cell_A Cell_A\n",
    "#if_you_are_paying_attention_you_will_not_uncomment_this_line(type_1=cell_types[0], type_2=cell_types[0]) # Cell_A Cell_B\n",
    "specs.append(contact_specs)\n",
    "\n",
    "from cc3d.core.PyCoreSpecs import BlobInitializer\n",
    "\n",
    "blob_init_specs = BlobInitializer()\n",
    "#blob_init_specs.region_new(width=5, radius=0, center=(50, 50, 0), cell_types=cell_types)\n",
    "specs.append(blob_init_specs)"
   ]
  },
  {
   "cell_type": "markdown",
   "id": "2a10f5f2-f9da-4916-a1a0-ac818c496c45",
   "metadata": {},
   "source": [
    "Basic Scalar Field Setup\n",
    "------------------"
   ]
  },
  {
   "cell_type": "code",
   "execution_count": 2,
   "id": "13ed3e76-f755-4121-b384-ea7e4eb1aa45",
   "metadata": {},
   "outputs": [],
   "source": [
    "from cc3d.core.PyCoreSpecs import DiffusionSolverFE\n",
    "\n",
    "simDiffusion = DiffusionSolverFE()\n",
    "SF = simDiffusion.field_new(\"SF\") # Add a new field (VEGF) to the diffusion solver\n",
    "#SF.bcs.y_min_type = 'Periodic'# Set the boundary conditions for the VEGF field (since our domain is 2D, we set boundaries for x and y only)\n",
    "#SF.bcs.x_min_type = 'Periodic'\n",
    "#SF.diff_data.diff_global = 0.0 # Set the diffusion parameters\n",
    "#SF.diff_data.decay_global = 0.0\n",
    "#SF.diff_data.decay_types[cell_types[0]] = 0.0\n",
    "#SF.diff_data.init_expression = '0'\n",
    "#AI.addiction = True\n",
    "#SF.secretion_data_new(\"Medium\", 0.0)\n",
    "\n",
    "# As usual... Add the specs to the specs list\n",
    "specs.append(simDiffusion)"
   ]
  },
  {
   "cell_type": "code",
   "execution_count": 3,
   "id": "833a0aa2-3e30-4be9-90dd-755162ebc0f1",
   "metadata": {},
   "outputs": [],
   "source": [
    "from cc3d.core.PyCoreSpecs import ChemotaxisPlugin\n",
    "\n",
    "#lambda_chemotaxis = 0\n",
    "chemotaxis_specs = ChemotaxisPlugin()\n",
    "cs = chemotaxis_specs.param_new(\"SF\", \"DiffusionSolverFE\")\n",
    "cs.params_new(cell_types[0], lambda_chemotaxis)\n",
    "specs.append(chemotaxis_specs)"
   ]
  },
  {
   "cell_type": "markdown",
   "id": "72413c30-07fb-43d8-a829-d00bce4bdd03",
   "metadata": {},
   "source": [
    "Visualization Steppables\n",
    "------------------"
   ]
  },
  {
   "cell_type": "code",
   "execution_count": 4,
   "id": "84f69204-ce63-46cb-b315-aae01eba58a2",
   "metadata": {},
   "outputs": [],
   "source": [
    "#interval_between_images = 500"
   ]
  },
  {
   "cell_type": "code",
   "execution_count": 5,
   "id": "33f29931-ba28-403c-9954-222c05444319",
   "metadata": {
    "jupyter": {
     "source_hidden": true
    }
   },
   "outputs": [
    {
     "name": "stderr",
     "output_type": "stream",
     "text": [
      "C:\\Users\\pdalc\\anaconda3\\envs\\cc3d_460_310\\lib\\site-packages\\cc3d\\core\\Configuration\\SettingUtils.py:248: UserWarning: Setting not set: PlayerSizes\n",
      "  warnings.warn(f'Setting not set: {_el.attrib[\"Name\"]}')\n",
      "C:\\Users\\pdalc\\anaconda3\\envs\\cc3d_460_310\\lib\\site-packages\\cc3d\\core\\Configuration\\SettingUtils.py:248: UserWarning: Setting not set: PlayerSizesFloating\n",
      "  warnings.warn(f'Setting not set: {_el.attrib[\"Name\"]}')\n",
      "C:\\Users\\pdalc\\anaconda3\\envs\\cc3d_460_310\\lib\\site-packages\\cc3d\\core\\Configuration\\SettingUtils.py:248: UserWarning: Setting not set: RecentSimulations\n",
      "  warnings.warn(f'Setting not set: {_el.attrib[\"Name\"]}')\n"
     ]
    }
   ],
   "source": [
    "from cc3d.core.PySteppables import *\n",
    "import matplotlib.pyplot as plt\n",
    "from matplotlib.patches import Patch\n",
    "import numpy as np\n",
    "\n",
    "class visualization(SteppableBasePy):\n",
    "    def start(self):\n",
    "        self.fig, self.ax = plt.subplots()  # Create figure and axis\n",
    "        self.im = None  # Placeholder for image\n",
    "        self.SF = self.field.SF\n",
    "        #self.cmap = plt.get_cmap(\"plasma\", 4)\n",
    "        pass\n",
    "    def step(self, mcs):\n",
    "        if not mcs % interval_between_images:\n",
    "            self.lattice()\n",
    "        \n",
    "    def lattice(self):\n",
    "        clear_output(wait=True)\n",
    "        lat = np.zeros(shape=(self.dim.x, self.dim.y, 3))\n",
    "        self.create_legend()\n",
    "        for x, y, z in self.every_pixel():\n",
    "            cell = self.cell_field[x, y, z]\n",
    "            if cell: \n",
    "                R = 1\n",
    "                G = 0\n",
    "                B = 0\n",
    "                color = [R, G, B]\n",
    "                color = [x * (1-(np.sin(cell.id*10)+1)/20.) for x in color]\n",
    "                lat[y,x] = color\n",
    "            if not cell:\n",
    "                intensity = 1-min(self.SF[x,y,z],1)\n",
    "                lat[y,x] = [intensity, intensity, intensity]\n",
    "        if self.im is None:\n",
    "            #self.im = self.ax.imshow(lat, cmap=self.cmap, vmin=0, vmax=3, animated=True)\n",
    "            self.im = self.ax.imshow(lat, animated=True)\n",
    "        else:\n",
    "            self.im.set_data(lat)\n",
    "            self.fig.canvas.draw_idle()  # Force a refresh\n",
    "            self.fig.canvas.flush_events() \n",
    "            #self.im = self.ax.imshow(lat, cmap=\"plasma\", vmin=0, vmax=3, animated=True)\n",
    "        display(self.fig)\n",
    "        # return(lat)\n",
    "\n",
    "    def create_legend(self):\n",
    "        \"\"\"Creates a discrete legend with fixed colors.\"\"\"\n",
    "        legend_labels = {index: value for index, value in enumerate(cell_types)}\n",
    "        #legend_patches = [Patch(color=self.cmap(i), label=label) for i, label in legend_labels.items()]\n",
    "        legend_patches = [Patch(color=[(i+1)*1./len(cell_types), 1 - (i+1)*1./len(cell_types), np.sin((i+1)*1./len(cell_types)*np.pi)], label=label) for i, label in legend_labels.items()]\n",
    "        self.ax.legend(handles=legend_patches, loc=\"upper right\", bbox_to_anchor=(1.3, 1), title=\"\")"
   ]
  },
  {
   "cell_type": "markdown",
   "id": "9854f274-4533-44cc-9362-c4048521e0e0",
   "metadata": {},
   "source": [
    "Play\n",
    "------------------"
   ]
  },
  {
   "cell_type": "code",
   "execution_count": 9,
   "id": "44ac9673-00f1-4e61-8ea8-a90c46a18955",
   "metadata": {},
   "outputs": [
    {
     "name": "stdout",
     "output_type": "stream",
     "text": [
      "WILL RUN SIMULATION FROM BEGINNING\n"
     ]
    },
    {
     "data": {
      "text/plain": [
       "True"
      ]
     },
     "execution_count": 9,
     "metadata": {},
     "output_type": "execute_result"
    }
   ],
   "source": [
    "from cc3d.CompuCellSetup.CC3DCaller import CC3DSimService\n",
    "\n",
    "cc3d_sim = CC3DSimService()\n",
    "cc3d_sim.register_specs(specs)\n",
    "cc3d_sim.register_steppable(steppable=visualization, frequency=1)\n",
    "cc3d_sim.run()\n",
    "cc3d_sim.init()"
   ]
  },
  {
   "cell_type": "code",
   "execution_count": 7,
   "id": "1eadc9c7-0409-451d-b27b-7fec60a10552",
   "metadata": {},
   "outputs": [
    {
     "data": {
      "image/png": "[encoded data removed]",
      "text/plain": [
       "<Figure size 640x480 with 1 Axes>"
      ]
     },
     "metadata": {},
     "output_type": "display_data"
    }
   ],
   "source": [
    "from IPython.display import display, clear_output\n",
    "\n",
    "cc3d_sim.start()\n",
    "while cc3d_sim.current_step < 10000:\n",
    "    cc3d_sim.step()\n",
    "    \n",
    "clear_output(wait=True)"
   ]
  },
  {
   "cell_type": "code",
   "execution_count": null,
   "id": "f4395461-dc18-447e-89f8-bed505406beb",
   "metadata": {},
   "outputs": [],
   "source": []
  }
 ],
 "metadata": {
  "kernelspec": {
   "display_name": "Python 3 (ipykernel)",
   "language": "python",
   "name": "python3"
  },
  "language_info": {
   "codemirror_mode": {
    "name": "ipython",
    "version": 3
   },
   "file_extension": ".py",
   "mimetype": "text/x-python",
   "name": "python",
   "nbconvert_exporter": "python",
   "pygments_lexer": "ipython3",
   "version": "3.10.14"
  }
 },
 "nbformat": 4,
 "nbformat_minor": 5
}
